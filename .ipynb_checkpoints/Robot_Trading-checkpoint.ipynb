{
 "cells": [
  {
   "cell_type": "markdown",
   "id": "7ef2a90c",
   "metadata": {},
   "source": [
    "# Configuración del ambiente"
   ]
  },
  {
   "cell_type": "code",
   "execution_count": 32,
   "id": "39e0aa66",
   "metadata": {},
   "outputs": [],
   "source": [
    "import pandas as pd\n",
    "import numpy as np\n",
    "import matplotlib.pyplot as plt\n",
    "import yfinance as yf\n",
    "import requests\n",
    "from bs4 import BeautifulSoup"
   ]
  },
  {
   "cell_type": "markdown",
   "id": "f68a8db3",
   "metadata": {},
   "source": [
    "# Obtención de datos"
   ]
  },
  {
   "cell_type": "markdown",
   "id": "5b981c11",
   "metadata": {},
   "source": [
    "## Precios Históricos del Bitcoin"
   ]
  },
  {
   "cell_type": "code",
   "execution_count": 33,
   "id": "35f012bf",
   "metadata": {},
   "outputs": [
    {
     "data": {
      "text/html": [
       "<div>\n",
       "<style scoped>\n",
       "    .dataframe tbody tr th:only-of-type {\n",
       "        vertical-align: middle;\n",
       "    }\n",
       "\n",
       "    .dataframe tbody tr th {\n",
       "        vertical-align: top;\n",
       "    }\n",
       "\n",
       "    .dataframe thead th {\n",
       "        text-align: right;\n",
       "    }\n",
       "</style>\n",
       "<table border=\"1\" class=\"dataframe\">\n",
       "  <thead>\n",
       "    <tr style=\"text-align: right;\">\n",
       "      <th></th>\n",
       "      <th>Open</th>\n",
       "      <th>High</th>\n",
       "      <th>Low</th>\n",
       "      <th>Close</th>\n",
       "      <th>Volume</th>\n",
       "      <th>Dividends</th>\n",
       "      <th>Stock Splits</th>\n",
       "    </tr>\n",
       "    <tr>\n",
       "      <th>Datetime</th>\n",
       "      <th></th>\n",
       "      <th></th>\n",
       "      <th></th>\n",
       "      <th></th>\n",
       "      <th></th>\n",
       "      <th></th>\n",
       "      <th></th>\n",
       "    </tr>\n",
       "  </thead>\n",
       "  <tbody>\n",
       "    <tr>\n",
       "      <th>2023-10-21 00:00:00+00:00</th>\n",
       "      <td>29683.380859</td>\n",
       "      <td>29688.470703</td>\n",
       "      <td>29677.050781</td>\n",
       "      <td>29677.050781</td>\n",
       "      <td>0</td>\n",
       "      <td>0.0</td>\n",
       "      <td>0.0</td>\n",
       "    </tr>\n",
       "    <tr>\n",
       "      <th>2023-10-21 00:05:00+00:00</th>\n",
       "      <td>29685.591797</td>\n",
       "      <td>29697.873047</td>\n",
       "      <td>29685.591797</td>\n",
       "      <td>29697.873047</td>\n",
       "      <td>0</td>\n",
       "      <td>0.0</td>\n",
       "      <td>0.0</td>\n",
       "    </tr>\n",
       "    <tr>\n",
       "      <th>2023-10-21 00:10:00+00:00</th>\n",
       "      <td>29694.681641</td>\n",
       "      <td>29694.681641</td>\n",
       "      <td>29678.056641</td>\n",
       "      <td>29678.056641</td>\n",
       "      <td>0</td>\n",
       "      <td>0.0</td>\n",
       "      <td>0.0</td>\n",
       "    </tr>\n",
       "    <tr>\n",
       "      <th>2023-10-21 00:15:00+00:00</th>\n",
       "      <td>29679.595703</td>\n",
       "      <td>29701.451172</td>\n",
       "      <td>29679.595703</td>\n",
       "      <td>29687.312500</td>\n",
       "      <td>0</td>\n",
       "      <td>0.0</td>\n",
       "      <td>0.0</td>\n",
       "    </tr>\n",
       "    <tr>\n",
       "      <th>2023-10-21 00:20:00+00:00</th>\n",
       "      <td>29681.755859</td>\n",
       "      <td>29683.751953</td>\n",
       "      <td>29673.628906</td>\n",
       "      <td>29682.761719</td>\n",
       "      <td>606208</td>\n",
       "      <td>0.0</td>\n",
       "      <td>0.0</td>\n",
       "    </tr>\n",
       "    <tr>\n",
       "      <th>2023-10-21 00:25:00+00:00</th>\n",
       "      <td>29683.175781</td>\n",
       "      <td>29697.013672</td>\n",
       "      <td>29683.175781</td>\n",
       "      <td>29697.013672</td>\n",
       "      <td>7835648</td>\n",
       "      <td>0.0</td>\n",
       "      <td>0.0</td>\n",
       "    </tr>\n",
       "    <tr>\n",
       "      <th>2023-10-21 00:30:00+00:00</th>\n",
       "      <td>29701.640625</td>\n",
       "      <td>29701.640625</td>\n",
       "      <td>29678.408203</td>\n",
       "      <td>29678.408203</td>\n",
       "      <td>0</td>\n",
       "      <td>0.0</td>\n",
       "      <td>0.0</td>\n",
       "    </tr>\n",
       "    <tr>\n",
       "      <th>2023-10-21 00:35:00+00:00</th>\n",
       "      <td>29677.173828</td>\n",
       "      <td>29678.009766</td>\n",
       "      <td>29667.054688</td>\n",
       "      <td>29667.054688</td>\n",
       "      <td>0</td>\n",
       "      <td>0.0</td>\n",
       "      <td>0.0</td>\n",
       "    </tr>\n",
       "    <tr>\n",
       "      <th>2023-10-21 00:40:00+00:00</th>\n",
       "      <td>29666.908203</td>\n",
       "      <td>29666.908203</td>\n",
       "      <td>29646.714844</td>\n",
       "      <td>29646.714844</td>\n",
       "      <td>0</td>\n",
       "      <td>0.0</td>\n",
       "      <td>0.0</td>\n",
       "    </tr>\n",
       "    <tr>\n",
       "      <th>2023-10-21 00:45:00+00:00</th>\n",
       "      <td>29637.449219</td>\n",
       "      <td>29637.449219</td>\n",
       "      <td>29611.851562</td>\n",
       "      <td>29611.851562</td>\n",
       "      <td>0</td>\n",
       "      <td>0.0</td>\n",
       "      <td>0.0</td>\n",
       "    </tr>\n",
       "  </tbody>\n",
       "</table>\n",
       "</div>"
      ],
      "text/plain": [
       "                                   Open          High           Low  \\\n",
       "Datetime                                                              \n",
       "2023-10-21 00:00:00+00:00  29683.380859  29688.470703  29677.050781   \n",
       "2023-10-21 00:05:00+00:00  29685.591797  29697.873047  29685.591797   \n",
       "2023-10-21 00:10:00+00:00  29694.681641  29694.681641  29678.056641   \n",
       "2023-10-21 00:15:00+00:00  29679.595703  29701.451172  29679.595703   \n",
       "2023-10-21 00:20:00+00:00  29681.755859  29683.751953  29673.628906   \n",
       "2023-10-21 00:25:00+00:00  29683.175781  29697.013672  29683.175781   \n",
       "2023-10-21 00:30:00+00:00  29701.640625  29701.640625  29678.408203   \n",
       "2023-10-21 00:35:00+00:00  29677.173828  29678.009766  29667.054688   \n",
       "2023-10-21 00:40:00+00:00  29666.908203  29666.908203  29646.714844   \n",
       "2023-10-21 00:45:00+00:00  29637.449219  29637.449219  29611.851562   \n",
       "\n",
       "                                  Close   Volume  Dividends  Stock Splits  \n",
       "Datetime                                                                   \n",
       "2023-10-21 00:00:00+00:00  29677.050781        0        0.0           0.0  \n",
       "2023-10-21 00:05:00+00:00  29697.873047        0        0.0           0.0  \n",
       "2023-10-21 00:10:00+00:00  29678.056641        0        0.0           0.0  \n",
       "2023-10-21 00:15:00+00:00  29687.312500        0        0.0           0.0  \n",
       "2023-10-21 00:20:00+00:00  29682.761719   606208        0.0           0.0  \n",
       "2023-10-21 00:25:00+00:00  29697.013672  7835648        0.0           0.0  \n",
       "2023-10-21 00:30:00+00:00  29678.408203        0        0.0           0.0  \n",
       "2023-10-21 00:35:00+00:00  29667.054688        0        0.0           0.0  \n",
       "2023-10-21 00:40:00+00:00  29646.714844        0        0.0           0.0  \n",
       "2023-10-21 00:45:00+00:00  29611.851562        0        0.0           0.0  "
      ]
     },
     "execution_count": 33,
     "metadata": {},
     "output_type": "execute_result"
    }
   ],
   "source": [
    "def importar_base_bitcoin():\n",
    "    global df_bitcoin, precio_actual, tendencia, media_bitcoin,  algoritmo_decision\n",
    "    datos_bitcoin = yf.Ticker('BTC-USD')\n",
    "    df_bitcoin = pd.DataFrame(datos_bitcoin.history(period = '7d', interval = '5m'))\n",
    "\n",
    "importar_base_bitcoin()\n",
    "df_bitcoin.head(10)\n",
    "    "
   ]
  },
  {
   "cell_type": "markdown",
   "id": "e8110620",
   "metadata": {},
   "source": [
    "## Extrayendo tendencias"
   ]
  },
  {
   "cell_type": "code",
   "execution_count": 47,
   "id": "b7858084",
   "metadata": {
    "code_folding": []
   },
   "outputs": [
    {
     "name": "stdout",
     "output_type": "stream",
     "text": [
      "El índice en la tabla para la posicion del BTC es:  0\n",
      "El precio actual del Bitcoin en este momento es:  34077.13\n",
      "La tendencia actual del bitcoin es:  alta\n"
     ]
    }
   ],
   "source": [
    "def extraer_tendencias():\n",
    "    # Hacemos WebScraping de la página https://coinmarketcap.com\n",
    "    global df_bitcoin, precio_actual, tendencia, media_bitcoin,  algoritmo_decision\n",
    "    headers = {'User-Agent': 'Mozilla/5.0 (X11; Linux x86_64) AppleWebKit/537.36 (KHTML, like Gecko) Chrome/118.0.0.0 Safari/537.36'}\n",
    "    url = 'https://coinmarketcap.com'\n",
    "    respuesta = requests.get(url, headers = headers)\n",
    "    soup = BeautifulSoup(respuesta.content, features = 'lxml')\n",
    "    # Obtenemos los símbolos de las criptomonedas\n",
    "    posicion_BTC = soup.findAll('p', {'class': 'sc-4984dd93-0 iqdbQL coin-item-symbol'})\n",
    "    # Ahora ubicamos el índice de la posición del BTC(Bitcoin)\n",
    "    indice = 0\n",
    "    for pos in posicion_BTC:\n",
    "        if pos.getText() == 'BTC':\n",
    "            break\n",
    "        indice += 1\n",
    "    print('El índice en la tabla para la posicion del BTC es: ', indice)\n",
    "    \n",
    "    # Obtenemos de la página el precio de Bitcoin\n",
    "    precios = soup.findAll('div', {'class':['sc-a0353bbc-0 gDrtaY','sc-a0353bbc-0 gDrtaY fall','sc-a0353bbc-0 gDrtaY rise']})\n",
    "    # Guardamos el precio en la variable precio_actual\n",
    "    # con el índice que obtuvimos en el anterior bucle for\n",
    "    # a su vez también quitamos el $ y la , del string \n",
    "    # y por último lo convertimos a una variable float\n",
    "    precio_actual = float(precios[indice].getText().replace('$', '').replace(',', ''))\n",
    "    print('El precio actual del Bitcoin en este momento es: ', precio_actual)\n",
    "    \n",
    "    # Obtenemos las tendencias de 1hr para el Bitcoin\n",
    "    tendencias = soup.findAll('span', {'class':['sc-d55c02b-0 gUnzUB','sc-d55c02b-0 iwhBxy']})[indice]\n",
    "    # Preguntamos con un if si en la classe del span esta icon-Caret-down \n",
    "    # esto quiere decir que la tendencia es igual a baja\n",
    "    # de lo contrario la tendencia es igual a alta\n",
    "    tendencia = ''\n",
    "    if tendencias.find('span')['class'][indice] == 'icon-Caret-down':\n",
    "        tendencia = 'baja'\n",
    "    else:\n",
    "        tendencia = 'alta'\n",
    "    print('La tendencia actual del bitcoin es: ', tendencia)\n",
    "    \n",
    "extraer_tendencias()"
   ]
  },
  {
   "cell_type": "code",
   "execution_count": null,
   "id": "a60b1e11",
   "metadata": {},
   "outputs": [],
   "source": []
  },
  {
   "cell_type": "code",
   "execution_count": null,
   "id": "31dc9e4f",
   "metadata": {},
   "outputs": [],
   "source": []
  }
 ],
 "metadata": {
  "kernelspec": {
   "display_name": "Python 3 (ipykernel)",
   "language": "python",
   "name": "python3"
  },
  "language_info": {
   "codemirror_mode": {
    "name": "ipython",
    "version": 3
   },
   "file_extension": ".py",
   "mimetype": "text/x-python",
   "name": "python",
   "nbconvert_exporter": "python",
   "pygments_lexer": "ipython3",
   "version": "3.11.5"
  },
  "nbTranslate": {
   "displayLangs": [
    "*"
   ],
   "hotkey": "alt-t",
   "langInMainMenu": true,
   "sourceLang": "en",
   "targetLang": "fr",
   "useGoogleTranslate": true
  },
  "toc": {
   "base_numbering": 1,
   "nav_menu": {},
   "number_sections": true,
   "sideBar": true,
   "skip_h1_title": false,
   "title_cell": "Table of Contents",
   "title_sidebar": "Contents",
   "toc_cell": false,
   "toc_position": {},
   "toc_section_display": true,
   "toc_window_display": false
  },
  "varInspector": {
   "cols": {
    "lenName": 16,
    "lenType": 16,
    "lenVar": 40
   },
   "kernels_config": {
    "python": {
     "delete_cmd_postfix": "",
     "delete_cmd_prefix": "del ",
     "library": "var_list.py",
     "varRefreshCmd": "print(var_dic_list())"
    },
    "r": {
     "delete_cmd_postfix": ") ",
     "delete_cmd_prefix": "rm(",
     "library": "var_list.r",
     "varRefreshCmd": "cat(var_dic_list()) "
    }
   },
   "types_to_exclude": [
    "module",
    "function",
    "builtin_function_or_method",
    "instance",
    "_Feature"
   ],
   "window_display": false
  }
 },
 "nbformat": 4,
 "nbformat_minor": 5
}
